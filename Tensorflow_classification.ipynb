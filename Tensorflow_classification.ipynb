{
  "nbformat": 4,
  "nbformat_minor": 0,
  "metadata": {
    "colab": {
      "name": "Tensorflow classification.ipynb",
      "provenance": [],
      "authorship_tag": "ABX9TyMfrvHz0oRlgdATGlrUOjzL",
      "include_colab_link": true
    },
    "kernelspec": {
      "name": "python3",
      "display_name": "Python 3"
    }
  },
  "cells": [
    {
      "cell_type": "markdown",
      "metadata": {
        "id": "view-in-github",
        "colab_type": "text"
      },
      "source": [
        "<a href=\"https://colab.research.google.com/github/sonnylewis1/tensorflow-classification/blob/main/Tensorflow_classification.ipynb\" target=\"_parent\"><img src=\"https://colab.research.google.com/assets/colab-badge.svg\" alt=\"Open In Colab\"/></a>"
      ]
    },
    {
      "cell_type": "markdown",
      "metadata": {
        "id": "C1xmahxwaLfQ"
      },
      "source": [
        "## **IMPORTING OF LIBRARIES**"
      ]
    },
    {
      "cell_type": "code",
      "metadata": {
        "id": "a15C4YLQZFdd"
      },
      "source": [
        "import tensorflow as tf\r\n",
        "from tensorflow.keras.datasets import mnist\r\n",
        "from tensorflow.keras.models import Sequential\r\n",
        "from tensorflow.keras.layers import Dense, Dropout, Conv2D, MaxPooling2D, Flatten\r\n",
        "from tensorflow.keras.optimizers import RMSprop\r\n",
        "from tensorflow.keras import backend\r\n",
        "import matplotlib.pyplot as plt\r\n",
        "import numpy as np"
      ],
      "execution_count": 9,
      "outputs": []
    },
    {
      "cell_type": "markdown",
      "metadata": {
        "id": "EW0vkfkYanQS"
      },
      "source": [
        "### **GETTING DATASET FROM KERAS**"
      ]
    },
    {
      "cell_type": "code",
      "metadata": {
        "colab": {
          "base_uri": "https://localhost:8080/"
        },
        "id": "SvYfcQDsaSwa",
        "outputId": "aabe64b5-3fb3-4258-bf44-fc32e79b7823"
      },
      "source": [
        "(train_images, train_labels), (test_images, test_labels) = mnist.load_data()"
      ],
      "execution_count": 3,
      "outputs": [
        {
          "output_type": "stream",
          "text": [
            "Downloading data from https://storage.googleapis.com/tensorflow/tf-keras-datasets/mnist.npz\n",
            "11493376/11490434 [==============================] - 0s 0us/step\n"
          ],
          "name": "stdout"
        }
      ]
    },
    {
      "cell_type": "code",
      "metadata": {
        "colab": {
          "base_uri": "https://localhost:8080/"
        },
        "id": "zqajReUEa4HC",
        "outputId": "8fd382e4-b492-4b11-ceff-d8f52cf8a846"
      },
      "source": [
        "print(train_images.shape[0], test_images.shape[0])"
      ],
      "execution_count": 4,
      "outputs": [
        {
          "output_type": "stream",
          "text": [
            "60000 10000\n"
          ],
          "name": "stdout"
        }
      ]
    },
    {
      "cell_type": "code",
      "metadata": {
        "colab": {
          "base_uri": "https://localhost:8080/"
        },
        "id": "o1MSW77ubBW3",
        "outputId": "2bab5802-c221-4c4d-db78-26a9182dc048"
      },
      "source": [
        "train_images.shape"
      ],
      "execution_count": 7,
      "outputs": [
        {
          "output_type": "execute_result",
          "data": {
            "text/plain": [
              "(60000, 28, 28)"
            ]
          },
          "metadata": {
            "tags": []
          },
          "execution_count": 7
        }
      ]
    },
    {
      "cell_type": "code",
      "metadata": {
        "colab": {
          "base_uri": "https://localhost:8080/",
          "height": 36
        },
        "id": "CDr5aRMIbmQ5",
        "outputId": "81fd212b-d0c3-4c5f-a2c3-260f18b0db5d"
      },
      "source": [
        "tf.keras.backend.image_data_format()"
      ],
      "execution_count": 10,
      "outputs": [
        {
          "output_type": "execute_result",
          "data": {
            "application/vnd.google.colaboratory.intrinsic+json": {
              "type": "string"
            },
            "text/plain": [
              "'channels_last'"
            ]
          },
          "metadata": {
            "tags": []
          },
          "execution_count": 10
        }
      ]
    },
    {
      "cell_type": "code",
      "metadata": {
        "id": "cjnBPNT0duqZ"
      },
      "source": [
        "if tf.keras.backend.image_data_format() == 'channels_first':\r\n",
        "    train_images = train_images.reshape(train_images.shape[0], 1, 28, 28)\r\n",
        "    test_images = test_images.reshape(test_images.shape[0], 1, 28, 28)\r\n",
        "    input_shape = (1, 28, 28)\r\n",
        "else:\r\n",
        "    train_images = train_images.reshape(train_images.shape[0], 28, 28, 1)\r\n",
        "    test_images = test_images.reshape(test_images.shape[0], 28, 28, 1)\r\n",
        "    input_shape = (28, 28, 1)"
      ],
      "execution_count": 11,
      "outputs": []
    },
    {
      "cell_type": "code",
      "metadata": {
        "colab": {
          "base_uri": "https://localhost:8080/"
        },
        "id": "X1_cBKbReTnF",
        "outputId": "a68b5caa-5fce-446e-ee56-8116603eb74d"
      },
      "source": [
        "train_images.shape"
      ],
      "execution_count": 12,
      "outputs": [
        {
          "output_type": "execute_result",
          "data": {
            "text/plain": [
              "(60000, 28, 28, 1)"
            ]
          },
          "metadata": {
            "tags": []
          },
          "execution_count": 12
        }
      ]
    },
    {
      "cell_type": "code",
      "metadata": {
        "id": "w3ck-9GeeXQT"
      },
      "source": [
        "train_images = train_images.astype('float32')\r\n",
        "test_images = test_images.astype('float32')\r\n",
        "train_images /= 255\r\n",
        "test_images /= 255"
      ],
      "execution_count": 13,
      "outputs": []
    },
    {
      "cell_type": "code",
      "metadata": {
        "colab": {
          "base_uri": "https://localhost:8080/"
        },
        "id": "Tbf-viYpgtim",
        "outputId": "fc5d4f76-e9b5-48b2-e84f-8af7fd99a335"
      },
      "source": [
        "train_labels"
      ],
      "execution_count": 14,
      "outputs": [
        {
          "output_type": "execute_result",
          "data": {
            "text/plain": [
              "array([5, 0, 4, ..., 5, 6, 8], dtype=uint8)"
            ]
          },
          "metadata": {
            "tags": []
          },
          "execution_count": 14
        }
      ]
    },
    {
      "cell_type": "code",
      "metadata": {
        "id": "pHvyXjQkgTRk"
      },
      "source": [
        "test_labels = tensorflow.keras.utils.to_categorical(test_labels, 10)\r\n",
        "train_labels = tensorflow.keras.utils.to_categorical(train_labels,10)"
      ],
      "execution_count": 15,
      "outputs": []
    },
    {
      "cell_type": "code",
      "metadata": {
        "colab": {
          "base_uri": "https://localhost:8080/"
        },
        "id": "-mUKemw_gw03",
        "outputId": "8d331f64-6b92-49bb-853f-01b2cdea8dd7"
      },
      "source": [
        "train_labels"
      ],
      "execution_count": 16,
      "outputs": [
        {
          "output_type": "execute_result",
          "data": {
            "text/plain": [
              "array([[0., 0., 0., ..., 0., 0., 0.],\n",
              "       [1., 0., 0., ..., 0., 0., 0.],\n",
              "       [0., 0., 0., ..., 0., 0., 0.],\n",
              "       ...,\n",
              "       [0., 0., 0., ..., 0., 0., 0.],\n",
              "       [0., 0., 0., ..., 0., 0., 0.],\n",
              "       [0., 0., 0., ..., 0., 1., 0.]], dtype=float32)"
            ]
          },
          "metadata": {
            "tags": []
          },
          "execution_count": 16
        }
      ]
    },
    {
      "cell_type": "markdown",
      "metadata": {
        "id": "ITsbFDjqhYby"
      },
      "source": [
        "### **DISPLAYING ONE OF THE IMAGES**"
      ]
    },
    {
      "cell_type": "code",
      "metadata": {
        "colab": {
          "base_uri": "https://localhost:8080/",
          "height": 265
        },
        "id": "Iu_lCp75gyIH",
        "outputId": "4c9af0e4-fc15-4787-e122-d7482e19a0fd"
      },
      "source": [
        "image = train_images[222].reshape([28, 28])\r\n",
        "plt.imshow(image, cmap=plt.get_cmap('gray_r'))\r\n",
        "plt.show()"
      ],
      "execution_count": 17,
      "outputs": [
        {
          "output_type": "display_data",
          "data": {
            "image/png": "[encoded data removed]",
            "text/plain": [
              "<Figure size 432x288 with 1 Axes>"
            ]
          },
          "metadata": {
            "tags": [],
            "needs_background": "light"
          }
        }
      ]
    },
    {
      "cell_type": "markdown",
      "metadata": {
        "id": "mCXl0_W2iP7S"
      },
      "source": [
        "### **BUILDING THE MODEL**"
      ]
    },
    {
      "cell_type": "code",
      "metadata": {
        "colab": {
          "base_uri": "https://localhost:8080/"
        },
        "id": "_4wy9G3Fh2-B",
        "outputId": "fda63ad8-e3a4-4aee-d038-5625e2cd018e"
      },
      "source": [
        "model = Sequential()\r\n",
        "model.add(Conv2D(32, kernel_size=(3, 3),\r\n",
        "                 activation='relu',\r\n",
        "                 input_shape=input_shape))\r\n",
        "model.add(Conv2D(64, (3, 3), activation='relu'))\r\n",
        "model.add(MaxPooling2D(pool_size=(2, 2)))\r\n",
        "model.add(Dropout(0.25))\r\n",
        "model.add(Flatten())\r\n",
        "model.add(Dense(128, activation='relu'))\r\n",
        "model.add(Dropout(0.5))\r\n",
        "model.add(Dense(10, activation='softmax'))\r\n",
        "\r\n",
        "model.summary()"
      ],
      "execution_count": 18,
      "outputs": [
        {
          "output_type": "stream",
          "text": [
            "Model: \"sequential\"\n",
            "_________________________________________________________________\n",
            "Layer (type)                 Output Shape              Param #   \n",
            "=================================================================\n",
            "conv2d (Conv2D)              (None, 26, 26, 32)        320       \n",
            "_________________________________________________________________\n",
            "conv2d_1 (Conv2D)            (None, 24, 24, 64)        18496     \n",
            "_________________________________________________________________\n",
            "max_pooling2d (MaxPooling2D) (None, 12, 12, 64)        0         \n",
            "_________________________________________________________________\n",
            "dropout (Dropout)            (None, 12, 12, 64)        0         \n",
            "_________________________________________________________________\n",
            "flatten (Flatten)            (None, 9216)              0         \n",
            "_________________________________________________________________\n",
            "dense (Dense)                (None, 128)               1179776   \n",
            "_________________________________________________________________\n",
            "dropout_1 (Dropout)          (None, 128)               0         \n",
            "_________________________________________________________________\n",
            "dense_1 (Dense)              (None, 10)                1290      \n",
            "=================================================================\n",
            "Total params: 1,199,882\n",
            "Trainable params: 1,199,882\n",
            "Non-trainable params: 0\n",
            "_________________________________________________________________\n"
          ],
          "name": "stdout"
        }
      ]
    },
    {
      "cell_type": "code",
      "metadata": {
        "id": "NwtC4-MvjFoB"
      },
      "source": [
        "model.compile(loss='categorical_crossentropy',\r\n",
        "              optimizer='adam',\r\n",
        "              metrics=['accuracy'])"
      ],
      "execution_count": 19,
      "outputs": []
    },
    {
      "cell_type": "code",
      "metadata": {
        "colab": {
          "base_uri": "https://localhost:8080/"
        },
        "id": "b7Sf4S1gjQSc",
        "outputId": "4865d626-830d-4c0a-a8f3-34a3142dc822"
      },
      "source": [
        "training = model.fit(train_images, train_labels, batch_size=32,\r\n",
        "                    epochs=10, verbose=1,\r\n",
        "                    validation_data=(test_images, test_labels))"
      ],
      "execution_count": 20,
      "outputs": [
        {
          "output_type": "stream",
          "text": [
            "Epoch 1/10\n",
            "1875/1875 [==============================] - 144s 76ms/step - loss: 0.3737 - accuracy: 0.8844 - val_loss: 0.0548 - val_accuracy: 0.9819\n",
            "Epoch 2/10\n",
            "1875/1875 [==============================] - 142s 76ms/step - loss: 0.0888 - accuracy: 0.9740 - val_loss: 0.0331 - val_accuracy: 0.9889\n",
            "Epoch 3/10\n",
            "1875/1875 [==============================] - 141s 75ms/step - loss: 0.0685 - accuracy: 0.9799 - val_loss: 0.0288 - val_accuracy: 0.9898\n",
            "Epoch 4/10\n",
            "1875/1875 [==============================] - 141s 75ms/step - loss: 0.0527 - accuracy: 0.9837 - val_loss: 0.0319 - val_accuracy: 0.9886\n",
            "Epoch 5/10\n",
            "1875/1875 [==============================] - 142s 76ms/step - loss: 0.0455 - accuracy: 0.9852 - val_loss: 0.0283 - val_accuracy: 0.9915\n",
            "Epoch 6/10\n",
            "1875/1875 [==============================] - 142s 76ms/step - loss: 0.0382 - accuracy: 0.9874 - val_loss: 0.0360 - val_accuracy: 0.9893\n",
            "Epoch 7/10\n",
            "1875/1875 [==============================] - 141s 75ms/step - loss: 0.0338 - accuracy: 0.9898 - val_loss: 0.0270 - val_accuracy: 0.9922\n",
            "Epoch 8/10\n",
            "1875/1875 [==============================] - 142s 76ms/step - loss: 0.0286 - accuracy: 0.9907 - val_loss: 0.0275 - val_accuracy: 0.9921\n",
            "Epoch 9/10\n",
            "1875/1875 [==============================] - 142s 76ms/step - loss: 0.0289 - accuracy: 0.9902 - val_loss: 0.0280 - val_accuracy: 0.9926\n",
            "Epoch 10/10\n",
            "1875/1875 [==============================] - 142s 76ms/step - loss: 0.0255 - accuracy: 0.9922 - val_loss: 0.0299 - val_accuracy: 0.9926\n"
          ],
          "name": "stdout"
        }
      ]
    },
    {
      "cell_type": "markdown",
      "metadata": {
        "id": "H3mLITXkpjy0"
      },
      "source": [
        "## **EVALUATING MODEL**"
      ]
    },
    {
      "cell_type": "code",
      "metadata": {
        "colab": {
          "base_uri": "https://localhost:8080/"
        },
        "id": "noavy1_3j1Hc",
        "outputId": "f34f6dad-68b1-40bf-f60d-843ba10f9299"
      },
      "source": [
        "model_eval = model.evaluate(test_images, test_labels)"
      ],
      "execution_count": 21,
      "outputs": [
        {
          "output_type": "stream",
          "text": [
            "313/313 [==============================] - 5s 16ms/step - loss: 0.0299 - accuracy: 0.9926\n"
          ],
          "name": "stdout"
        }
      ]
    },
    {
      "cell_type": "code",
      "metadata": {
        "colab": {
          "base_uri": "https://localhost:8080/"
        },
        "id": "r5EJx952pcmk",
        "outputId": "9dcb5b7c-193b-4cd3-efec-723c0d1499c6"
      },
      "source": [
        "model_eval"
      ],
      "execution_count": 22,
      "outputs": [
        {
          "output_type": "execute_result",
          "data": {
            "text/plain": [
              "[0.02987605333328247, 0.9926000237464905]"
            ]
          },
          "metadata": {
            "tags": []
          },
          "execution_count": 22
        }
      ]
    },
    {
      "cell_type": "code",
      "metadata": {
        "colab": {
          "base_uri": "https://localhost:8080/",
          "height": 265
        },
        "id": "A6tWsd2Vpg6_",
        "outputId": "8bd6f29c-e925-4909-af5c-c60ff9db9b44"
      },
      "source": [
        "image = np.reshape(test_images[222], (28, 28))\r\n",
        "plt.imshow(image, cmap=plt.get_cmap('gray_r'))\r\n",
        "plt.show()"
      ],
      "execution_count": 23,
      "outputs": [
        {
          "output_type": "display_data",
          "data": {
            "image/png": "[encoded data removed]",
            "text/plain": [
              "<Figure size 432x288 with 1 Axes>"
            ]
          },
          "metadata": {
            "tags": [],
            "needs_background": "light"
          }
        }
      ]
    },
    {
      "cell_type": "code",
      "metadata": {
        "id": "FVJbjtfcqE_x"
      },
      "source": [
        "image = np.reshape(test_images[222], (1, 28, 28, 1))\r\n",
        "prediction = model.predict(image)"
      ],
      "execution_count": 24,
      "outputs": []
    },
    {
      "cell_type": "code",
      "metadata": {
        "colab": {
          "base_uri": "https://localhost:8080/"
        },
        "id": "_v47IgtWqd5G",
        "outputId": "d6470ce1-143e-4342-cef8-707a18f72bde"
      },
      "source": [
        "prediction"
      ],
      "execution_count": 25,
      "outputs": [
        {
          "output_type": "execute_result",
          "data": {
            "text/plain": [
              "array([[3.8658712e-08, 7.3985144e-11, 9.9999917e-01, 4.3062590e-10,\n",
              "        1.7030454e-12, 2.0369667e-14, 2.2898543e-12, 2.0396194e-09,\n",
              "        7.8966002e-07, 1.2485510e-12]], dtype=float32)"
            ]
          },
          "metadata": {
            "tags": []
          },
          "execution_count": 25
        }
      ]
    },
    {
      "cell_type": "code",
      "metadata": {
        "colab": {
          "base_uri": "https://localhost:8080/"
        },
        "id": "1ONKA2AdqfIK",
        "outputId": "5a212011-eadc-40b6-ed04-13159c1326c7"
      },
      "source": [
        "prediction = np.argmax(prediction)\r\n",
        "prediction"
      ],
      "execution_count": 26,
      "outputs": [
        {
          "output_type": "execute_result",
          "data": {
            "text/plain": [
              "2"
            ]
          },
          "metadata": {
            "tags": []
          },
          "execution_count": 26
        }
      ]
    },
    {
      "cell_type": "code",
      "metadata": {
        "id": "aCgzqR84qq_5"
      },
      "source": [
        ""
      ],
      "execution_count": null,
      "outputs": []
    }
  ]
}